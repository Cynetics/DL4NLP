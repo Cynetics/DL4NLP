{
 "cells": [
  {
   "cell_type": "code",
   "execution_count": 9,
   "metadata": {},
   "outputs": [
    {
     "name": "stdout",
     "output_type": "stream",
     "text": [
      "\n"
     ]
    }
   ],
   "source": [
    "import pandas as pd\n",
    "# make sure you rename the first column to \"lang\", i have yet to automatically do this\n",
    "df = pd.read_csv('./classification_report_baseline.csv', delimiter=',')\n",
    "\n",
    "lang_dict = {}\n",
    "fam_dict = {}\n",
    "alphabet_dict = {}\n",
    "\n",
    "with open('./gpt-2-LI/data/wili-2018/labels.csv', 'r') as f:\n",
    "    for line in f.readlines():\n",
    "        s = line.split(';')\n",
    "        code = s[0]\n",
    "        lang_dict[code] = s[1]\n",
    "        fam_dict[code] = s[5]\n",
    "        alphabet_dict[code] = s[6]\n",
    "\n",
    "\n",
    "df['language'] = df['lang'].map(lang_dict)\n",
    "df['fam'] = df['lang'].map(fam_dict)\n",
    "df['alphabet'] = df['lang'].map(alphabet_dict)\n",
    "\n",
    "#with pd.option_context('display.max_rows', None):\n",
    "lowest_prec = df.sort_values('precision')[['language', 'precision' ]][:40]\n",
    "lowest_rec = df.sort_values('recall')[['language', 'recall']][:40]\n",
    "lowest_f1 = df.sort_values('f1-score')[['language', 'f1-score' ]][:40]\n",
    "\n",
    "print()\n",
    "\n"
   ]
  },
  {
   "cell_type": "code",
   "execution_count": 17,
   "metadata": {},
   "outputs": [
    {
     "name": "stdout",
     "output_type": "stream",
     "text": [
      "                       language  f1-score\n",
      "23                      Bosnian  0.579882\n",
      "73               Serbo-Croatian  0.635897\n",
      "77                     Croatian  0.689655\n",
      "58                       French  0.706320\n",
      "29                    Chavacano  0.707317\n",
      "164                      Picard  0.748603\n",
      "190                     Spanish  0.781395\n",
      "86                   Indonesian  0.783784\n",
      "177                     Russian  0.803493\n",
      "50                      English  0.805430\n",
      "155                     Occitan  0.810811\n",
      "137                       Malay  0.827957\n",
      "47                       Doteli  0.828729\n",
      "43                       German  0.836207\n",
      "126                  Banyumasan  0.840426\n",
      "148      Nepali (macrolanguage)  0.855814\n",
      "15                     Bavarian  0.880000\n",
      "2              Alemannic German  0.881188\n",
      "10                         Avar  0.886486\n",
      "233                   Cantonese  0.895833\n",
      "145           Classical Nahuatl  0.895928\n",
      "111                       Latin  0.901961\n",
      "140                       Erzya  0.902564\n",
      "119               Northern Luri  0.904523\n",
      "152                      Bokmål  0.904523\n",
      "56                      Persian  0.904762\n",
      "166             Palatine German  0.905263\n",
      "104                        Komi  0.905263\n",
      "102                Komi-Permyak  0.908163\n",
      "42                       Danish  0.915423\n",
      "88                      Italian  0.915888\n",
      "110                         Lao  0.916667\n",
      "227                  Wu Chinese  0.916667\n",
      "27                       Buryat  0.923077\n",
      "151           Norwegian Nynorsk  0.924623\n",
      "11                       Aymara  0.925532\n",
      "17   Belarusian (Taraschkewiza)  0.926316\n",
      "18                   Belarusian  0.928230\n",
      "90                     Javanese  0.930000\n",
      "66                       Gilaki  0.931217\n"
     ]
    }
   ],
   "source": [
    "import seaborn as sns\n",
    "\n",
    "#sns.set_theme(style=\"whitegrid\")\n",
    "\n",
    "tips = sns.load_dataset(\"tips\")\n",
    "print(lowest_f1)\n"
   ]
  },
  {
   "cell_type": "code",
   "execution_count": null,
   "metadata": {},
   "outputs": [],
   "source": []
  }
 ],
 "metadata": {
  "kernelspec": {
   "display_name": "Python 3",
   "language": "python",
   "name": "python3"
  },
  "language_info": {
   "codemirror_mode": {
    "name": "ipython",
    "version": 3
   },
   "file_extension": ".py",
   "mimetype": "text/x-python",
   "name": "python",
   "nbconvert_exporter": "python",
   "pygments_lexer": "ipython3",
   "version": "3.7.3"
  }
 },
 "nbformat": 4,
 "nbformat_minor": 4
}
